{
 "nbformat": 4,
 "nbformat_minor": 2,
 "metadata": {
  "language_info": {
   "name": "python",
   "codemirror_mode": {
    "name": "ipython",
    "version": 3
   },
   "version": "3.6.10-final"
  },
  "orig_nbformat": 2,
  "file_extension": ".py",
  "mimetype": "text/x-python",
  "name": "python",
  "npconvert_exporter": "python",
  "pygments_lexer": "ipython3",
  "version": 3,
  "kernelspec": {
   "name": "python361064bitjohannapycondadfeee39fdfcd44049573b49afa5df077",
   "display_name": "Python 3.6.10 64-bit ('JohannaPy': conda)"
  }
 },
 "cells": [
  {
   "cell_type": "markdown",
   "metadata": {},
   "source": [
    "This code is to process Sentinel 1 GRD with Snap to Gamma0 Terrain Flattening. The script is forked from John Truckenbrodt (S1_ARD).\n",
    "To make it work one has to follow all the setup instructions of Truckenbrodts script."
   ]
  },
  {
   "cell_type": "code",
   "execution_count": null,
   "metadata": {},
   "outputs": [],
   "source": [
    "import re\n",
    "import os\n",
    "from pyroSAR.auxdata import dem_autoload, dem_create\n",
    "from spatialist import gdalwarp, Vector\n",
    "\n",
    "maindir = '/home/rus/Sentinel1/S1_ARD/data/'\n",
    "snap5_gpt = '/usr/local/snap/bin/gpt'\n",
    "site_file = name_shp = '/home/rus/Sentinel1/Data1404/UgandaShape4326.shp'\n",
    "epsg=21036\n",
    "demType = 'AW3D30'\n",
    "dem_id = demType.replace(' ', '-')\n",
    "dem_base = 'Uganda_dem_snap_{}'.format(dem_id)\n",
    "dem_dir = os.path.join(maindir, 'DEM')\n",
    "if not os.path.isdir(dem_dir):\n",
    "    os.makedirs(dem_dir)\n",
    "dem_snap = os.path.join(dem_dir, dem_base + '.tif')\n",
    "print(dem_snap.replace(maindir, '.'))\n",
    "if not os.path.isfile(dem_snap):\n",
    "    with Vector(site_file) as site:\n",
    "        vrt = dem_autoload(geometries=[site], \n",
    "                           demType=demType,\n",
    "                           vrt='/vsimem/{}.vrt'.format(dem_base), \n",
    "                           buffer=0.1)\n",
    "    # create a DEM GTiff file from the VRT\n",
    "    dem_create(src=vrt, dst=dem_snap, t_srs=epsg, tr=(20, 20), geoid_convert=True)"
   ]
  },
  {
   "cell_type": "code",
   "execution_count": null,
   "metadata": {},
   "outputs": [],
   "source": [
    "from pyroSAR import snap\n",
    "from spatialist.ancillary import finder\n",
    "\n",
    "scenes = finder(os.path.join(maindir, 's1'), ['S1*zip'])\n",
    "\n",
    "scenedir = os.path.join(maindir, 'SNAP', 'stack')\n",
    "for scene in scenes:\n",
    "    print(os.path.basename(scene))\n",
    "    snap.geocode(infile=scene,\n",
    "                 externalDEMFile=dem_snap, shapefile=site_file,\n",
    "                 externalDEMApplyEGM=False, t_srs=epsg,\n",
    "                 outdir=scenedir, tr=20, scaling='db', groupsize=1,\n",
    "                 export_extra=['incidenceAngleFromEllipsoid',\n",
    "                               'localIncidenceAngle',\n",
    "                               'projectedLocalIncidenceAngle',\n",
    "                               'DEM'],\n",
    "                 gpt_exceptions={'Terrain-Flattening': snap5_gpt})\n",
    "    print('-' * 10)"
   ]
  }
 ]
}